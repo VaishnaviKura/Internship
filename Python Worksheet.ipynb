{
 "cells": [
  {
   "cell_type": "markdown",
   "metadata": {},
   "source": [
    "Factorial of a Given Number"
   ]
  },
  {
   "cell_type": "code",
   "execution_count": 78,
   "metadata": {},
   "outputs": [
    {
     "name": "stdout",
     "output_type": "stream",
     "text": [
      "Enter the number = 9\n",
      "362880\n"
     ]
    }
   ],
   "source": [
    "number=int(input(\"Enter the number = \"))\n",
    "factorial = 1\n",
    "if number<0:\n",
    "    print(\"Factorial is not possible for negative numbers\")\n",
    "elif (number==0 or number==1):\n",
    "    print(\"factorial of the given number is 1\")\n",
    "\n",
    "elif number>=2:\n",
    "    for i in range(number,1,-1):\n",
    "        factorial = factorial*i\n",
    "        \n",
    "    print(factorial)"
   ]
  },
  {
   "cell_type": "markdown",
   "metadata": {},
   "source": [
    "To Check if a string is palindrome or not"
   ]
  },
  {
   "cell_type": "code",
   "execution_count": 18,
   "metadata": {},
   "outputs": [
    {
     "name": "stdout",
     "output_type": "stream",
     "text": [
      "Enter the string = madam\n",
      "The entered string is a palindrome\n"
     ]
    }
   ],
   "source": [
    "string= input(\"Enter the string = \")\n",
    "revstr=(string[ : : -1 ])\n",
    "if string==revstr:\n",
    "    print(\"The entered string is a palindrome\")\n",
    "else:\n",
    "    print(\"The entered string is not a palindrome\")\n"
   ]
  },
  {
   "cell_type": "markdown",
   "metadata": {},
   "source": [
    "To check if a number is composite or prime"
   ]
  },
  {
   "cell_type": "code",
   "execution_count": 45,
   "metadata": {},
   "outputs": [
    {
     "name": "stdout",
     "output_type": "stream",
     "text": [
      "Enter the number:11\n",
      "Is a prime number\n"
     ]
    }
   ],
   "source": [
    "num=int(input(\"Enter the number:\"))\n",
    "\n",
    "if num<1:\n",
    "    print(\"Number needs to be greater than 1\")\n",
    "elif num==1:\n",
    "    print(\"number is neither prime nor composite\")\n",
    "    \n",
    "else:\n",
    "    for i in range(2,num):\n",
    "        if(num%i==0):\n",
    "            print(\"num is not a prime number but composite\")\n",
    "            break\n",
    "            \n",
    "    else:\n",
    "        print(\"Is a prime number\")\n",
    "        "
   ]
  },
  {
   "cell_type": "markdown",
   "metadata": {},
   "source": [
    "To find the frequency of each character in the string "
   ]
  },
  {
   "cell_type": "code",
   "execution_count": 54,
   "metadata": {},
   "outputs": [
    {
     "name": "stdout",
     "output_type": "stream",
     "text": [
      "Enter the string: flip robo\n",
      "{'f': 1, 'l': 1, 'i': 1, 'p': 1, ' ': 1, 'r': 1, 'o': 2, 'b': 1}\n"
     ]
    }
   ],
   "source": [
    "str1=input(\"Enter the string: \")\n",
    "d1= dict()\n",
    "for i in str1:\n",
    "    if i in d1:\n",
    "        d1[i] = d1[i] + 1\n",
    "    else:\n",
    "        d1[i]=1\n",
    "print (d1)"
   ]
  },
  {
   "cell_type": "markdown",
   "metadata": {},
   "source": [
    "To get the third side of right-angled triangle from two given sides."
   ]
  },
  {
   "cell_type": "code",
   "execution_count": 85,
   "metadata": {},
   "outputs": [
    {
     "name": "stdout",
     "output_type": "stream",
     "text": [
      "Hypotenuse=5.0\n"
     ]
    }
   ],
   "source": [
    "def pythagoras(opp_side,adj_side,hypotenuse):\n",
    "    if opp_side == str(\"x\"):\n",
    "        return(\"opp=\"+str(((hypotenuse**2)-(adj_side**2))**0.5))\n",
    "    elif adj_side == str(\"x\"):\n",
    "        return(\"Adj=\" +str(((hypotenuse**2)-(opp_side**2))**0.5))\n",
    "    elif hypotenuse == str(\"x\"):\n",
    "        return(\"Hypotenuse=\" +str(((opp_side**2)+(adj_side**2))**0.5))\n",
    "    \n",
    "print(pythagoras(3,4,'x'))\n",
    "#print(pythagoras(3,'x',4))\n",
    "#print(pythagoras('x',3,4))"
   ]
  },
  {
   "cell_type": "code",
   "execution_count": null,
   "metadata": {},
   "outputs": [],
   "source": []
  },
  {
   "cell_type": "code",
   "execution_count": null,
   "metadata": {},
   "outputs": [],
   "source": []
  }
 ],
 "metadata": {
  "kernelspec": {
   "display_name": "Python 3",
   "language": "python",
   "name": "python3"
  },
  "language_info": {
   "codemirror_mode": {
    "name": "ipython",
    "version": 3
   },
   "file_extension": ".py",
   "mimetype": "text/x-python",
   "name": "python",
   "nbconvert_exporter": "python",
   "pygments_lexer": "ipython3",
   "version": "3.8.5"
  }
 },
 "nbformat": 4,
 "nbformat_minor": 4
}
